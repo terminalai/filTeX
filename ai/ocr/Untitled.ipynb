{
 "cells": [
  {
   "cell_type": "code",
   "execution_count": null,
   "id": "2b56fef7",
   "metadata": {},
   "outputs": [
    {
     "ename": "",
     "evalue": "",
     "output_type": "error",
     "traceback": [
      "\u001b[1;31mRunning cells with 'Python 3.9.13 64-bit (microsoft store)' requires ipykernel package.\n",
      "\u001b[1;31mRun the following command to install 'ipykernel' into the Python environment. \n",
      "\u001b[1;31mCommand: '\"c:/Users/Yaw Tia/AppData/Local/Microsoft/WindowsApps/python3.9.exe\" -m pip install ipykernel -U --force-reinstall'"
     ]
    }
   ],
   "source": [
    "import sys\n",
    "!\"{sys.executable}\" -m pip install pytesseract"
   ]
  },
  {
   "cell_type": "code",
   "execution_count": 13,
   "id": "9590e2ca",
   "metadata": {},
   "outputs": [
    {
     "name": "stdout",
     "output_type": "stream",
     "text": [
      "Collecting wand\n",
      "  Downloading Wand-0.6.10-py2.py3-none-any.whl (142 kB)\n",
      "Installing collected packages: wand\n",
      "Successfully installed wand-0.6.10\n"
     ]
    }
   ],
   "source": [
    "!\"{sys.executable}\" -m pip install wand"
   ]
  },
  {
   "cell_type": "code",
   "execution_count": 31,
   "id": "6d56917a",
   "metadata": {
    "scrolled": false
   },
   "outputs": [],
   "source": [
    "from PIL import Image\n",
    "import pathlib\n",
    "import pytesseract\n",
    "from wand.image import Image as WandImage\n",
    "import math\n"
   ]
  },
  {
   "cell_type": "code",
   "execution_count": 11,
   "id": "3afffd1b",
   "metadata": {},
   "outputs": [],
   "source": [
    "\n",
    "# If you don't have tesseract executable in your PATH, include the following:\n",
    "pytesseract.pytesseract.tesseract_cmd = r\"C:\\Program Files\\Tesseract-OCR\\tesseract.exe\""
   ]
  },
  {
   "cell_type": "code",
   "execution_count": 37,
   "id": "a2f2479f",
   "metadata": {},
   "outputs": [],
   "source": [
    "input_name = \"ascii text art example.png\"\n",
    "output_name = \"win.jpg\"\n",
    "\n",
    "class MyImage(WandImage):\n",
    "    def brightness_contrast(self, brightness=0.0, contrast=0.0):\n",
    "        slope=math.tan((math.pi * (contrast/100.0+1.0)/4.0))\n",
    "        if slope < 0.0:\n",
    "          slope=0.0\n",
    "        intercept=brightness/100.0+((100-brightness)/200.0)*(1.0-slope)\n",
    "        self.function(\"polynomial\", [slope, intercept])\n",
    "\n",
    "    \n",
    "with WandImage(filename=input_name) as img:\n",
    "    img.blur(radius=0, sigma=5)\n",
    "    img.save(filename=output_name)\n",
    "    \n",
    "with MyImage(filename=output_name) as img:\n",
    "    img.brightness_contrast(-10, 10.0)\n",
    "    img.save(filename=output_name)"
   ]
  },
  {
   "cell_type": "code",
   "execution_count": 39,
   "id": "7c19312e",
   "metadata": {
    "scrolled": false
   },
   "outputs": [
    {
     "name": "stdout",
     "output_type": "stream",
     "text": [
      "ASCII art\n",
      "tutorial\n",
      "\n"
     ]
    }
   ],
   "source": [
    "\n",
    "# Simple image to string\n",
    "print(pytesseract.image_to_string(Image.open(output_name)))"
   ]
  }
 ],
 "metadata": {
  "kernelspec": {
   "display_name": "Python 3.9.13 64-bit (microsoft store)",
   "language": "python",
   "name": "python3"
  },
  "language_info": {
   "codemirror_mode": {
    "name": "ipython",
    "version": 3
   },
   "file_extension": ".py",
   "mimetype": "text/x-python",
   "name": "python",
   "nbconvert_exporter": "python",
   "pygments_lexer": "ipython3",
   "version": "3.9.13"
  },
  "vscode": {
   "interpreter": {
    "hash": "f0f35d8ef748803b52d10d3b0b60f557a7a331c9d10b7c454c0ea7262e7c73e8"
   }
  }
 },
 "nbformat": 4,
 "nbformat_minor": 5
}
